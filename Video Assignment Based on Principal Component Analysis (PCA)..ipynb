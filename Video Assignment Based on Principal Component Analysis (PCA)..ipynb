{
 "cells": [
  {
   "cell_type": "markdown",
   "metadata": {},
   "source": [
    "# AI & ML Video Assignment"
   ]
  },
  {
   "cell_type": "markdown",
   "metadata": {},
   "source": [
    "# PCA"
   ]
  },
  {
   "cell_type": "markdown",
   "metadata": {},
   "source": [
    "Please find attached the file for the practice problem on PCA for the\n",
    "students for AI&ML Batch - 1. The problem statement is given below:\n",
    "1 The dataset given for this problem consists of data extracted from\n",
    "satellite images. The number of features is 36. 2. Reduce the dimensionality of the dataset using PCA. The threshold\n",
    "limits for the eigenvalues should be varied from 0.9 to 0.97 in steps of\n",
    "0.01.3. Obtain the Scree plot for each of these cases. Find the number of principal components retained due to the thresholding."
   ]
  },
  {
   "cell_type": "code",
   "execution_count": 1,
   "metadata": {},
   "outputs": [],
   "source": [
    "#import necessary libraries\n",
    "\n",
    "import pandas as pd\n",
    "import numpy as np\n",
    "import matplotlib.pyplot as plt"
   ]
  },
  {
   "cell_type": "code",
   "execution_count": 2,
   "metadata": {},
   "outputs": [
    {
     "data": {
      "text/html": [
       "<div>\n",
       "<style scoped>\n",
       "    .dataframe tbody tr th:only-of-type {\n",
       "        vertical-align: middle;\n",
       "    }\n",
       "\n",
       "    .dataframe tbody tr th {\n",
       "        vertical-align: top;\n",
       "    }\n",
       "\n",
       "    .dataframe thead th {\n",
       "        text-align: right;\n",
       "    }\n",
       "</style>\n",
       "<table border=\"1\" class=\"dataframe\">\n",
       "  <thead>\n",
       "    <tr style=\"text-align: right;\">\n",
       "      <th></th>\n",
       "      <th>0</th>\n",
       "      <th>1</th>\n",
       "      <th>2</th>\n",
       "      <th>3</th>\n",
       "      <th>4</th>\n",
       "      <th>5</th>\n",
       "      <th>6</th>\n",
       "      <th>7</th>\n",
       "      <th>8</th>\n",
       "      <th>9</th>\n",
       "      <th>...</th>\n",
       "      <th>25</th>\n",
       "      <th>26</th>\n",
       "      <th>27</th>\n",
       "      <th>28</th>\n",
       "      <th>29</th>\n",
       "      <th>30</th>\n",
       "      <th>31</th>\n",
       "      <th>32</th>\n",
       "      <th>33</th>\n",
       "      <th>34</th>\n",
       "    </tr>\n",
       "  </thead>\n",
       "  <tbody>\n",
       "    <tr>\n",
       "      <th>0</th>\n",
       "      <td>-0.03125</td>\n",
       "      <td>0.236364</td>\n",
       "      <td>0.238095</td>\n",
       "      <td>-0.090909</td>\n",
       "      <td>0.000000</td>\n",
       "      <td>0.381818</td>\n",
       "      <td>0.326316</td>\n",
       "      <td>-0.015625</td>\n",
       "      <td>-0.12500</td>\n",
       "      <td>0.553398</td>\n",
       "      <td>...</td>\n",
       "      <td>0.576923</td>\n",
       "      <td>0.471264</td>\n",
       "      <td>-0.033333</td>\n",
       "      <td>-0.046154</td>\n",
       "      <td>0.524752</td>\n",
       "      <td>0.410526</td>\n",
       "      <td>-0.015625</td>\n",
       "      <td>-0.18750</td>\n",
       "      <td>0.495146</td>\n",
       "      <td>0.515789</td>\n",
       "    </tr>\n",
       "    <tr>\n",
       "      <th>1</th>\n",
       "      <td>-0.03125</td>\n",
       "      <td>0.309091</td>\n",
       "      <td>0.380952</td>\n",
       "      <td>0.074380</td>\n",
       "      <td>0.129032</td>\n",
       "      <td>0.472727</td>\n",
       "      <td>0.557895</td>\n",
       "      <td>0.078125</td>\n",
       "      <td>-0.03125</td>\n",
       "      <td>0.398058</td>\n",
       "      <td>...</td>\n",
       "      <td>0.519231</td>\n",
       "      <td>0.425287</td>\n",
       "      <td>0.000000</td>\n",
       "      <td>0.138462</td>\n",
       "      <td>0.663366</td>\n",
       "      <td>0.368421</td>\n",
       "      <td>0.015625</td>\n",
       "      <td>0.12500</td>\n",
       "      <td>0.533981</td>\n",
       "      <td>0.368421</td>\n",
       "    </tr>\n",
       "    <tr>\n",
       "      <th>2</th>\n",
       "      <td>-0.03125</td>\n",
       "      <td>0.381818</td>\n",
       "      <td>0.261905</td>\n",
       "      <td>-0.107438</td>\n",
       "      <td>0.000000</td>\n",
       "      <td>0.527273</td>\n",
       "      <td>0.326316</td>\n",
       "      <td>0.046875</td>\n",
       "      <td>-0.03125</td>\n",
       "      <td>0.631068</td>\n",
       "      <td>...</td>\n",
       "      <td>0.384615</td>\n",
       "      <td>0.103448</td>\n",
       "      <td>-0.250000</td>\n",
       "      <td>-0.138462</td>\n",
       "      <td>0.425743</td>\n",
       "      <td>0.263158</td>\n",
       "      <td>-0.109375</td>\n",
       "      <td>-0.03125</td>\n",
       "      <td>0.650485</td>\n",
       "      <td>0.452632</td>\n",
       "    </tr>\n",
       "    <tr>\n",
       "      <th>3</th>\n",
       "      <td>-0.03125</td>\n",
       "      <td>0.381818</td>\n",
       "      <td>0.285714</td>\n",
       "      <td>-0.123967</td>\n",
       "      <td>-0.129032</td>\n",
       "      <td>0.309091</td>\n",
       "      <td>0.073684</td>\n",
       "      <td>-0.156250</td>\n",
       "      <td>0.09375</td>\n",
       "      <td>0.398058</td>\n",
       "      <td>...</td>\n",
       "      <td>0.519231</td>\n",
       "      <td>0.425287</td>\n",
       "      <td>-0.050000</td>\n",
       "      <td>-0.107692</td>\n",
       "      <td>0.485149</td>\n",
       "      <td>0.368421</td>\n",
       "      <td>-0.031250</td>\n",
       "      <td>-0.25000</td>\n",
       "      <td>0.203883</td>\n",
       "      <td>0.094737</td>\n",
       "    </tr>\n",
       "    <tr>\n",
       "      <th>4</th>\n",
       "      <td>-0.03125</td>\n",
       "      <td>0.381818</td>\n",
       "      <td>0.357143</td>\n",
       "      <td>-0.024793</td>\n",
       "      <td>-0.096774</td>\n",
       "      <td>0.454545</td>\n",
       "      <td>0.431579</td>\n",
       "      <td>-0.015625</td>\n",
       "      <td>-0.25000</td>\n",
       "      <td>0.398058</td>\n",
       "      <td>...</td>\n",
       "      <td>0.480769</td>\n",
       "      <td>0.471264</td>\n",
       "      <td>-0.033333</td>\n",
       "      <td>-0.169231</td>\n",
       "      <td>0.524752</td>\n",
       "      <td>0.515789</td>\n",
       "      <td>-0.015625</td>\n",
       "      <td>-0.28125</td>\n",
       "      <td>0.495146</td>\n",
       "      <td>0.410526</td>\n",
       "    </tr>\n",
       "  </tbody>\n",
       "</table>\n",
       "<p>5 rows × 35 columns</p>\n",
       "</div>"
      ],
      "text/plain": [
       "        0         1         2         3         4         5         6   \\\n",
       "0 -0.03125  0.236364  0.238095 -0.090909  0.000000  0.381818  0.326316   \n",
       "1 -0.03125  0.309091  0.380952  0.074380  0.129032  0.472727  0.557895   \n",
       "2 -0.03125  0.381818  0.261905 -0.107438  0.000000  0.527273  0.326316   \n",
       "3 -0.03125  0.381818  0.285714 -0.123967 -0.129032  0.309091  0.073684   \n",
       "4 -0.03125  0.381818  0.357143 -0.024793 -0.096774  0.454545  0.431579   \n",
       "\n",
       "         7        8         9   ...        25        26        27        28  \\\n",
       "0 -0.015625 -0.12500  0.553398  ...  0.576923  0.471264 -0.033333 -0.046154   \n",
       "1  0.078125 -0.03125  0.398058  ...  0.519231  0.425287  0.000000  0.138462   \n",
       "2  0.046875 -0.03125  0.631068  ...  0.384615  0.103448 -0.250000 -0.138462   \n",
       "3 -0.156250  0.09375  0.398058  ...  0.519231  0.425287 -0.050000 -0.107692   \n",
       "4 -0.015625 -0.25000  0.398058  ...  0.480769  0.471264 -0.033333 -0.169231   \n",
       "\n",
       "         29        30        31       32        33        34  \n",
       "0  0.524752  0.410526 -0.015625 -0.18750  0.495146  0.515789  \n",
       "1  0.663366  0.368421  0.015625  0.12500  0.533981  0.368421  \n",
       "2  0.425743  0.263158 -0.109375 -0.03125  0.650485  0.452632  \n",
       "3  0.485149  0.368421 -0.031250 -0.25000  0.203883  0.094737  \n",
       "4  0.524752  0.515789 -0.015625 -0.28125  0.495146  0.410526  \n",
       "\n",
       "[5 rows x 35 columns]"
      ]
     },
     "execution_count": 2,
     "metadata": {},
     "output_type": "execute_result"
    }
   ],
   "source": [
    "# reading the given dataset\n",
    "\n",
    "df= pd.read_csv(\"PCA_practice_dataset.csv\", header=None)\n",
    "df.head()"
   ]
  },
  {
   "cell_type": "code",
   "execution_count": 3,
   "metadata": {},
   "outputs": [
    {
     "name": "stdout",
     "output_type": "stream",
     "text": [
      "(8042, 35)\n"
     ]
    }
   ],
   "source": [
    "x = np.matrix(df)\n",
    "print (x.shape)"
   ]
  },
  {
   "cell_type": "code",
   "execution_count": 4,
   "metadata": {},
   "outputs": [
    {
     "name": "stdout",
     "output_type": "stream",
     "text": [
      "(1, 35)\n",
      "(8042, 8042)\n",
      "[[0.07045943 0.05374168 0.06304342 ... 0.00733069 0.01621207 0.01657079]\n",
      " [0.05374168 0.05183588 0.05196809 ... 0.00965658 0.01810842 0.0151184 ]\n",
      " [0.06304342 0.05196809 0.08152229 ... 0.02270087 0.02228601 0.02251113]\n",
      " ...\n",
      " [0.00733069 0.00965658 0.02270087 ... 0.03852267 0.03087382 0.03460103]\n",
      " [0.01621207 0.01810842 0.02228601 ... 0.03087382 0.03842717 0.04062317]\n",
      " [0.01657079 0.0151184  0.02251113 ... 0.03460103 0.04062317 0.04776188]]\n"
     ]
    }
   ],
   "source": [
    "# finding mean and covariance of the given dataset \n",
    "\n",
    "mean = np.mean(x,axis=0)\n",
    "print(mean.shape)\n",
    "x_cov= np.cov(x)\n",
    "print(x_cov.shape)\n",
    "print (x_cov)"
   ]
  },
  {
   "cell_type": "code",
   "execution_count": 5,
   "metadata": {},
   "outputs": [
    {
     "name": "stdout",
     "output_type": "stream",
     "text": [
      "[ 7.06248941e+02+0.j  1.08699068e+02+0.j  3.29068375e+01+0.j ...\n",
      " -2.21063318e-18+0.j -1.07922354e-18+0.j  8.91784573e-19+0.j]\n",
      "[[-5.51699297e-04+0.j  2.46822394e-02+0.j -4.01313716e-05+0.j ...\n",
      "  -5.12672849e-04+0.j -2.87791967e-04+0.j  9.59880233e-04+0.j]\n",
      " [-1.12005537e-03+0.j  2.03097709e-02+0.j  5.16728885e-03+0.j ...\n",
      "  -7.40179409e-06+0.j -1.13596228e-05+0.j  2.10058424e-05+0.j]\n",
      " [-2.16762510e-03+0.j  2.31265216e-02+0.j -2.58232555e-03+0.j ...\n",
      "  -7.42906517e-06+0.j -7.00831424e-06+0.j  2.75391011e-07+0.j]\n",
      " ...\n",
      " [-6.59963699e-03+0.j  2.00394418e-03+0.j -7.07805423e-03+0.j ...\n",
      "  -1.73251498e-03+0.j -7.00604653e-03+0.j -6.42182838e-03+0.j]\n",
      " [-6.64867385e-03+0.j  4.76974923e-03+0.j  6.10035785e-03+0.j ...\n",
      "   1.27712796e-03+0.j  2.74019273e-03+0.j -1.94734271e-03+0.j]\n",
      " [-7.64735918e-03+0.j  4.39960806e-03+0.j  3.02100870e-03+0.j ...\n",
      "   6.62643475e-03+0.j  1.08502184e-02+0.j -2.74676087e-03+0.j]]\n"
     ]
    }
   ],
   "source": [
    "# finding eigen values and eigen vectors \n",
    "\n",
    "eig_val, eig_vec = np.linalg.eig(x_cov)\n",
    "print(eig_val)\n",
    "print(eig_vec)"
   ]
  },
  {
   "cell_type": "code",
   "execution_count": 6,
   "metadata": {},
   "outputs": [],
   "source": [
    "# sorting eigen values into descending order\n",
    "\n",
    "sort_idx = np.argsort(eig_val)\n",
    "sort_idx = sort_idx[::-1]"
   ]
  },
  {
   "cell_type": "code",
   "execution_count": 7,
   "metadata": {},
   "outputs": [
    {
     "name": "stdout",
     "output_type": "stream",
     "text": [
      "principal_eig_vec\n",
      "[array([-5.51699297e-04+0.j,  2.46822394e-02+0.j, -4.01313716e-05+0.j, ...,\n",
      "       -5.12672849e-04+0.j, -2.87791967e-04+0.j,  9.59880233e-04+0.j]), array([-1.12005537e-03+0.j,  2.03097709e-02+0.j,  5.16728885e-03+0.j, ...,\n",
      "       -7.40179409e-06+0.j, -1.13596228e-05+0.j,  2.10058424e-05+0.j]), array([-2.16762510e-03+0.j,  2.31265216e-02+0.j, -2.58232555e-03+0.j, ...,\n",
      "       -7.42906517e-06+0.j, -7.00831424e-06+0.j,  2.75391011e-07+0.j]), array([-1.75044841e-03+0.j,  2.17961441e-02+0.j, -2.39398274e-03+0.j, ...,\n",
      "        4.59703792e-05+0.j,  1.56210066e-05+0.j,  1.14113019e-04+0.j]), array([-2.36353306e-04+0.j,  2.59465369e-02+0.j,  9.14307260e-04+0.j, ...,\n",
      "       -7.88827685e-06+0.j, -7.83504701e-05+0.j,  2.26694983e-04+0.j]), array([-7.87049247e-04+0.j,  2.42280065e-02+0.j,  1.55443477e-04+0.j, ...,\n",
      "       -6.79861562e-05+0.j, -3.33748185e-05+0.j,  5.22452077e-05+0.j]), array([-3.93591092e-04+0.j,  2.59934692e-02+0.j,  1.03392131e-02+0.j, ...,\n",
      "        6.99740924e-06+0.j,  2.52329941e-05+0.j,  3.69169453e-05+0.j])]\n",
      "principal_eig_val\n",
      "[(706.2489412217069+0j), (108.69906757228834+0j), (32.90683753160216+0j), (25.20240197667846+0j), (21.348950416760825+0j), (19.09386703002477+0j), (14.07676152774478+0j)]\n",
      "Number of components 7\n"
     ]
    }
   ],
   "source": [
    "# finding the principal component\n",
    "\n",
    "eig_val_sum = np.sum(eig_val)\n",
    "temp_sum = 0\n",
    "principal_eig_vec = []\n",
    "principal_eig_val = []\n",
    "i=0\n",
    "while(temp_sum<0.95*eig_val_sum): \n",
    "    principal_eig_vec.append(eig_vec[sort_idx[i]])\n",
    "    principal_eig_val.append(eig_val[sort_idx[i]])\n",
    "    temp_sum += eig_val[sort_idx[i]]\n",
    "    i += 1\n",
    "print(\"principal_eig_vec\")\n",
    "print(principal_eig_vec)\n",
    "print(\"principal_eig_val\")\n",
    "print(principal_eig_val)\n",
    "print(\"Number of components\",i)"
   ]
  },
  {
   "cell_type": "code",
   "execution_count": 8,
   "metadata": {},
   "outputs": [
    {
     "name": "stdout",
     "output_type": "stream",
     "text": [
      "[[-5.51699297e-04+0.j -1.12005537e-03+0.j -2.16762510e-03+0.j ...\n",
      "  -2.36353306e-04+0.j -7.87049247e-04+0.j -3.93591092e-04+0.j]\n",
      " [ 2.46822394e-02+0.j  2.03097709e-02+0.j  2.31265216e-02+0.j ...\n",
      "   2.59465369e-02+0.j  2.42280065e-02+0.j  2.59934692e-02+0.j]\n",
      " [-4.01313716e-05+0.j  5.16728885e-03+0.j -2.58232555e-03+0.j ...\n",
      "   9.14307260e-04+0.j  1.55443477e-04+0.j  1.03392131e-02+0.j]\n",
      " ...\n",
      " [-5.12672849e-04+0.j -7.40179409e-06+0.j -7.42906517e-06+0.j ...\n",
      "  -7.88827685e-06+0.j -6.79861562e-05+0.j  6.99740924e-06+0.j]\n",
      " [-2.87791967e-04+0.j -1.13596228e-05+0.j -7.00831424e-06+0.j ...\n",
      "  -7.83504701e-05+0.j -3.33748185e-05+0.j  2.52329941e-05+0.j]\n",
      " [ 9.59880233e-04+0.j  2.10058424e-05+0.j  2.75391011e-07+0.j ...\n",
      "   2.26694983e-04+0.j  5.22452077e-05+0.j  3.69169453e-05+0.j]]\n",
      "Q_hat.shape\n",
      "(8042, 7)\n"
     ]
    }
   ],
   "source": [
    "# transfornation matrix\n",
    "Q_hat = np.matrix(principal_eig_vec)\n",
    "Q_hat = Q_hat.T\n",
    "print(Q_hat)\n",
    "\n",
    "print(\"Q_hat.shape\") \n",
    "print(Q_hat.shape)"
   ]
  },
  {
   "cell_type": "code",
   "execution_count": 10,
   "metadata": {},
   "outputs": [
    {
     "name": "stderr",
     "output_type": "stream",
     "text": [
      "C:\\Users\\Anup\\anaconda3\\lib\\site-packages\\numpy\\core\\_asarray.py:85: ComplexWarning: Casting complex values to real discards the imaginary part\n",
      "  return array(a, dtype, copy=False, order=order)\n"
     ]
    },
    {
     "data": {
      "image/png": "[encoded data removed]",
      "text/plain": [
       "<Figure size 432x288 with 1 Axes>"
      ]
     },
     "metadata": {
      "needs_background": "light"
     },
     "output_type": "display_data"
    }
   ],
   "source": [
    "# plotting Scree plot\n",
    "\n",
    "fig, ax = plt.subplots()\n",
    "\n",
    "ax.plot(principal_eig_val)\n",
    "ax.set_title(\"Eigen-values corresponding to the principal components\")\n",
    "\n",
    "plt.tight_layout()"
   ]
  },
  {
   "cell_type": "code",
   "execution_count": null,
   "metadata": {},
   "outputs": [],
   "source": []
  }
 ],
 "metadata": {
  "kernelspec": {
   "display_name": "Python 3",
   "language": "python",
   "name": "python3"
  },
  "language_info": {
   "codemirror_mode": {
    "name": "ipython",
    "version": 3
   },
   "file_extension": ".py",
   "mimetype": "text/x-python",
   "name": "python",
   "nbconvert_exporter": "python",
   "pygments_lexer": "ipython3",
   "version": "3.8.3"
  }
 },
 "nbformat": 4,
 "nbformat_minor": 4
}
